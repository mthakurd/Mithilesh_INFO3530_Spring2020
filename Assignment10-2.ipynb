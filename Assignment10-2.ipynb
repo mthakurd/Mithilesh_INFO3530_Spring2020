{
  "nbformat": 4,
  "nbformat_minor": 0,
  "metadata": {
    "colab": {
      "name": "Untitled7.ipynb",
      "provenance": [],
      "authorship_tag": "ABX9TyPfYcyCnbTWnyzWmRzXe/kr",
      "include_colab_link": true
    },
    "kernelspec": {
      "name": "python3",
      "display_name": "Python 3"
    }
  },
  "cells": [
    {
      "cell_type": "markdown",
      "metadata": {
        "id": "view-in-github",
        "colab_type": "text"
      },
      "source": [
        "<a href=\"https://colab.research.google.com/github/mthakurd/Mithilesh_INFO3530_Spring2020/blob/master/Assignment10-2.ipynb\" target=\"_parent\"><img src=\"https://colab.research.google.com/assets/colab-badge.svg\" alt=\"Open In Colab\"/></a>"
      ]
    },
    {
      "cell_type": "markdown",
      "metadata": {
        "id": "mprSn5YP-5By",
        "colab_type": "text"
      },
      "source": [
        "1: for the student table we created in last assignment, write a function which can add a student into the table (1) the function accepts data in command line. \n",
        "\n",
        "(2) insert at least 10 students into the table. \n",
        "(3) the major must be “data science”, “information science”, ”computer science” \n",
        "(4) set at least 2 students in “data science”, 3 in “information science”, 5 in “computer science”"
      ]
    },
    {
      "cell_type": "code",
      "metadata": {
        "id": "nXkSXbGg-xtJ",
        "colab_type": "code",
        "colab": {}
      },
      "source": [
        "import pymysql\n",
        "\n",
        "def insertData(info):\n",
        "    db = pymysql.connect(\"localhost\",\"root\",\"Alfa2020\",\"pydb\")\n",
        "    dbcursor = db.cursor()\n",
        "\n",
        "    sql = \"insert into tstudent(stuid,stuname,major,stuyear,tuition) values(%s,%s,%s,%s,%s)\"\n",
        "    values = (info[0], info[1], info[2], info[3], info[4])\n",
        "\n",
        "    dbcursor.execute(sql, values)\n",
        "    db.commit()\n",
        "\n",
        "    dbcursor.close()\n",
        "    db.close()\n",
        "\n",
        "\n",
        "\n",
        "\n",
        "# def getdata():\n",
        "#     db=pymysql.connect(\"localhost\",\"root\",\"Alfa2020\",\"pydb\")\n",
        "#     cursor=db.cursor()\n",
        "#     sql=\"select * from tstudent\"\n",
        "#     cursor.execute(sql)\n",
        "#     data=cursor.fetchall()\n",
        "#     cursor.close()\n",
        "#     db.close()\n",
        "#     return data\n",
        "#\n",
        "#\n",
        "# def printdata(data):\n",
        "#     print(\"stuid \\t stuname \\t major \\t stuyear \\ttuition\")\n",
        "#     print(\"-------------------------------------------------\")\n",
        "#     for row in data:\n",
        "#         print(str(row[0])+\"\\t\\t\"+row[1]+\"\\t\"+row[2]+\"\\t\\t\"+str(row[3])+\"\\t\\t\"+str(row[4]))\n",
        "#         print(\"-------------------------------------------------\")\n",
        "#     data=\"\"\n",
        "\n",
        "\n",
        "num_stu = int(input(\"Enter number of students to be entered in db. \\n\"))\n",
        "for num in range(num_stu):\n",
        "    id = int(input(\"Enter student id \\n\"))\n",
        "    stuname = str(input(\"Enter student name \\n\"))\n",
        "    major = str(input(\"Enter student major \\n\"))\n",
        "    stuyear = str(input(\"Enter student year \\n\"))\n",
        "    tuition = str(input(\"Enter student tuition \\n\"))\n",
        "    student_info = [id, stuname, major, stuyear, tuition]\n",
        "    insertData(student_info)\n",
        "# data=getdata()\n",
        "# printdata(data)"
      ],
      "execution_count": 0,
      "outputs": []
    },
    {
      "cell_type": "markdown",
      "metadata": {
        "id": "ijsgT32d_KKT",
        "colab_type": "text"
      },
      "source": [
        "2: write a function which can delete a student by stuid (in command line)"
      ]
    },
    {
      "cell_type": "code",
      "metadata": {
        "id": "pI5d7UT7_PGT",
        "colab_type": "code",
        "colab": {}
      },
      "source": [
        "import pymysql\n",
        "\n",
        "def deleteStudent(id):\n",
        "    db = pymysql.connect(\"localhost\",\"root\",\"Alfa2020\",\"pydb\")\n",
        "    dbcursor = db.cursor()\n",
        "\n",
        "    sql = \"delete from tstudent where stuid = %s\"\n",
        "    stuid = id\n",
        "\n",
        "    dbcursor.execute(sql, stuid)\n",
        "    db.commit()\n",
        "\n",
        "    dbcursor.close()\n",
        "    db.close()\n",
        "\n",
        "\n",
        "id = int(input(\"Enter the id of student whose record you want to be deleted. \\n\"))\n",
        "deleteStudent(id)"
      ],
      "execution_count": 0,
      "outputs": []
    },
    {
      "cell_type": "markdown",
      "metadata": {
        "id": "Xshumgrd_bYr",
        "colab_type": "text"
      },
      "source": [
        "3: write a function which can modify a student’s name (in command line)"
      ]
    },
    {
      "cell_type": "code",
      "metadata": {
        "id": "NI3DiSge_cYB",
        "colab_type": "code",
        "colab": {}
      },
      "source": [
        "import pymysql\n",
        "\n",
        "def updatStudentName(id, new_name):\n",
        "    db = pymysql.connect(\"localhost\",\"root\",\"Alfa2020\",\"pydb\")\n",
        "    dbcursor = db.cursor()\n",
        "\n",
        "    sql = \"update tstudent set stuname = %s where stuid = %s\"\n",
        "    values = (new_name, id)\n",
        "\n",
        "    dbcursor.execute(sql, values)\n",
        "    db.commit()\n",
        "\n",
        "    dbcursor.close()\n",
        "    db.close()\n",
        "\n",
        "\n",
        "id = int(input(\"Enter the id of student whose name you wish to update. \\n\"))\n",
        "new_name = str(input(\"Enter new name of the student. \\n\"))\n",
        "updatStudentName(id, new_name)"
      ],
      "execution_count": 0,
      "outputs": []
    },
    {
      "cell_type": "markdown",
      "metadata": {
        "id": "mvrEZ3lU_faE",
        "colab_type": "text"
      },
      "source": [
        "4: write a function which can get the total count of students in one specific major(in command line)"
      ]
    },
    {
      "cell_type": "code",
      "metadata": {
        "id": "SmmaBWGW_qf7",
        "colab_type": "code",
        "colab": {}
      },
      "source": [
        "import pymysql\n",
        "\n",
        "def totalCount(major_name):\n",
        "    db = pymysql.connect(\"localhost\",\"root\",\"Alfa2020\",\"pydb\")\n",
        "    dbcursor = db.cursor()\n",
        "\n",
        "    sql = \"select count(*) from tstudent where major = %s\"\n",
        "    value = major_name\n",
        "\n",
        "    dbcursor.execute(sql, value)\n",
        "    results = dbcursor.fetchall()\n",
        "    print(\"count = \" + str(results[0][0]))\n",
        "\n",
        "    dbcursor.close()\n",
        "    db.close()\n",
        "\n",
        "\n",
        "major_name = str(input(\"Enter the major. \\n\"))\n",
        "totalCount(major_name)"
      ],
      "execution_count": 0,
      "outputs": []
    },
    {
      "cell_type": "markdown",
      "metadata": {
        "id": "vE1Lvs9S_vW1",
        "colab_type": "text"
      },
      "source": [
        "5: write a function which can get one student’s id and name randomly(in command line)"
      ]
    },
    {
      "cell_type": "code",
      "metadata": {
        "id": "mlpLGNGZ_zTy",
        "colab_type": "code",
        "colab": {}
      },
      "source": [
        "import pymysql\n",
        "import random\n",
        "\n",
        "def displayRandom(random_id):\n",
        "    db = pymysql.connect(\"localhost\",\"root\",\"Alfa2020\",\"pydb\")\n",
        "    dbcursor = db.cursor()\n",
        "\n",
        "    sql = \"select stuid,stuname from tstudent where stuid = %s\"\n",
        "    value = random_id\n",
        "\n",
        "    dbcursor.execute(sql, value)\n",
        "    results = dbcursor.fetchall()\n",
        "    try:\n",
        "        result = results[0]\n",
        "        print(\"Student id: \" + str(result[0]) + \"\\n\")\n",
        "        print(\"Student Name: \" + str(result[1]))\n",
        "    except Exception as e:\n",
        "        print(\"Sorry, this student id was not found in db. Please try again.\")\n",
        "\n",
        "    dbcursor.close()\n",
        "    db.close()\n",
        "\n",
        "\n",
        "range = int(input(\"Enter the range of student ids. \\n\"))\n",
        "random_id = random.randrange(1, range, 1)\n",
        "displayRandom(random_id)"
      ],
      "execution_count": 0,
      "outputs": []
    }
  ]
}