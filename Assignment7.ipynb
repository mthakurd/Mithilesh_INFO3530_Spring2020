{
  "nbformat": 4,
  "nbformat_minor": 0,
  "metadata": {
    "colab": {
      "name": "Untitled",
      "provenance": [],
      "mount_file_id": "1QzHoJfCLhLAWK_OZIW2_YvzUy2-I1nWs",
      "authorship_tag": "ABX9TyN4yc0Vp3k1FS2171ulSLn5",
      "include_colab_link": true
    },
    "kernelspec": {
      "name": "python3",
      "display_name": "Python 3"
    }
  },
  "cells": [
    {
      "cell_type": "markdown",
      "metadata": {
        "id": "view-in-github",
        "colab_type": "text"
      },
      "source": [
        "<a href=\"https://colab.research.google.com/github/mthakurd/Mithilesh_INFO3530_Spring2020/blob/master/Assignment7.ipynb\" target=\"_parent\"><img src=\"https://colab.research.google.com/assets/colab-badge.svg\" alt=\"Open In Colab\"/></a>"
      ]
    },
    {
      "cell_type": "markdown",
      "metadata": {
        "id": "83UpKqoelkcH",
        "colab_type": "text"
      },
      "source": [
        "Use recursion style to modify the assignment in lesson 4"
      ]
    },
    {
      "cell_type": "code",
      "metadata": {
        "id": "ilPhwtvflhXG",
        "colab_type": "code",
        "colab": {}
      },
      "source": [
        "import turtle\n",
        "\n",
        "rec = turtle.Turtle()\n",
        "rec.color(\"red\")\n",
        "rec.pensize(3)\n",
        "\n",
        "rec.penup()\n",
        "rec.forward(-200)\n",
        "rec.pendown()\n",
        "\n",
        "def draw(n):\n",
        "    global rec\n",
        "    if n != 0:\n",
        "        for _ in range(4):\n",
        "            rec.left(90)\n",
        "            rec.forward(100)\n",
        "        rec.penup()\n",
        "        rec.forward(150)\n",
        "        rec.pendown()\n",
        "        draw(n-1)\n",
        "\n",
        "win = turtle.Screen()\n",
        "win.bgcolor(\"lightgreen\")\n",
        "draw(5)\n",
        "win.mainloop()"
      ],
      "execution_count": 0,
      "outputs": []
    },
    {
      "cell_type": "markdown",
      "metadata": {
        "id": "HDBvwyTFpW4a",
        "colab_type": "text"
      },
      "source": [
        "![alt text](https://drive.google.com/uc?id=1HzwDJhGtSRUxqe8tOfZ_k8KvUTXAG18U)"
      ]
    },
    {
      "cell_type": "markdown",
      "metadata": {
        "id": "VFkJ3FbgobsX",
        "colab_type": "text"
      },
      "source": [
        "Use recursion style to modify the assignment in lesson 4"
      ]
    },
    {
      "cell_type": "code",
      "metadata": {
        "id": "cWBMR8ZqoZ4w",
        "colab_type": "code",
        "colab": {}
      },
      "source": [
        "\n",
        "import turtle\n",
        "\n",
        "win = turtle.Screen()\n",
        "win.bgcolor(\"lightgreen\")\n",
        "t = turtle.Turtle()\n",
        "\n",
        "t.color(\"red\")\n",
        "t.pensize(3)\n",
        "\n",
        "i = 0\n",
        "\n",
        "def draw_rec(n):\n",
        "    global t\n",
        "    global i\n",
        "\n",
        "    if i != n:\n",
        "        t.forward(100 + i*40)\n",
        "        t.left(90)\n",
        "        t.forward(100 + i*40)\n",
        "        t.left(90)\n",
        "        t.forward(100 + i*40)\n",
        "        t.left(90)\n",
        "        t.forward(100 + i*40)\n",
        "\n",
        "        t.color('lightgreen')\n",
        "        t.forward(20)\n",
        "        t.right(90)\n",
        "        t.forward(20)\n",
        "        t.color('red')\n",
        "        t.pensize(3)\n",
        "        t.right(180)\n",
        "        i += 1\n",
        "        draw_rec(n)\n",
        "\n",
        "\n",
        "if __name__ == \"__main__\":\n",
        "    draw_rec(5)"
      ],
      "execution_count": 0,
      "outputs": []
    },
    {
      "cell_type": "markdown",
      "metadata": {
        "id": "T3z6NRRTrr3J",
        "colab_type": "text"
      },
      "source": [
        "![alt text](https://drive.google.com/uc?id=18kjgXTf5Q656Z9NMK2F2Ix2KTW-2WHJ8)"
      ]
    },
    {
      "cell_type": "markdown",
      "metadata": {
        "id": "fyNw3c_Yoehy",
        "colab_type": "text"
      },
      "source": [
        "Write a function count that returns the total count of a specific number in a nested list. The requirements are as follows.\n",
        "The element’s type of the list should be int.\n",
        "It should at least have 5 nested in depth.\n",
        "You can define the number by your self."
      ]
    },
    {
      "cell_type": "code",
      "metadata": {
        "id": "64zeiEYNodT9",
        "colab_type": "code",
        "outputId": "c094b57a-56fc-46d1-8409-59451c2f04ee",
        "colab": {
          "base_uri": "https://localhost:8080/",
          "height": 34
        }
      },
      "source": [
        "cnt = 0\n",
        "\n",
        "def count(lst, n, m):\n",
        "    global cnt\n",
        "    if n != 0:\n",
        "        for item in lst:\n",
        "            if item == m and isinstance(item, int):\n",
        "                cnt += 1\n",
        "            elif isinstance(item, list):\n",
        "                count(item, n-1, m)\n",
        "        return cnt\n",
        "\n",
        "\n",
        "\n",
        "if __name__ == \"__main__\":\n",
        "    lst = [1, 2, 5, [2, 3, 5, [5, [2, 4, [5, 5, [4], 1]]]], 1]\n",
        "    cnt = count(lst, 6, 1)\n",
        "    print(cnt)"
      ],
      "execution_count": 0,
      "outputs": [
        {
          "output_type": "stream",
          "text": [
            "3\n"
          ],
          "name": "stdout"
        }
      ]
    }
  ]
}