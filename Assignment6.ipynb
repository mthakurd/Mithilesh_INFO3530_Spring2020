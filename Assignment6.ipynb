{
  "nbformat": 4,
  "nbformat_minor": 0,
  "metadata": {
    "colab": {
      "name": "Untitled5.ipynb",
      "provenance": [],
      "authorship_tag": "ABX9TyPUABDYzZXwXKFPrXF/sUM2",
      "include_colab_link": true
    },
    "kernelspec": {
      "name": "python3",
      "display_name": "Python 3"
    }
  },
  "cells": [
    {
      "cell_type": "markdown",
      "metadata": {
        "id": "view-in-github",
        "colab_type": "text"
      },
      "source": [
        "<a href=\"https://colab.research.google.com/github/mthakurd/Mithilesh_INFO3530_Spring2020/blob/master/Assignment6.ipynb\" target=\"_parent\"><img src=\"https://colab.research.google.com/assets/colab-badge.svg\" alt=\"Open In Colab\"/></a>"
      ]
    },
    {
      "cell_type": "markdown",
      "metadata": {
        "id": "icLng2T3ecNl",
        "colab_type": "text"
      },
      "source": [
        "1. write a function to write a several numbers in one line (at least 10 numbers) into a txtfile.Then write another function to read the several numbers and turn them into an array,and use a mask to set all values above 100 (half of your number should exceed over 100) to be 100 and store the result into another txtfile. Tips:map(int,list) could turn a string list to a int list."
      ]
    },
    {
      "cell_type": "code",
      "metadata": {
        "id": "PoYp2MYhebav",
        "colab_type": "code",
        "colab": {}
      },
      "source": [
        "def func1(data):\n",
        "    with open('data.txt', 'w') as file1:\n",
        "        file1.write(data)\n",
        "    file1.close()\n",
        "\n",
        "def func2(filename1, filename2):\n",
        "    with open(filename1, 'r') as file1, open(filename2, 'w') as file2:\n",
        "        numbers = file1.read()\n",
        "        numbers = numbers.split()\n",
        "        number_lst = list(map(int, numbers))\n",
        "        for i in range(len(number_lst)):\n",
        "            if number_lst[i] > 100:\n",
        "                number_lst[i] = 100\n",
        "        file2.write(str(number_lst))\n",
        "    file1.close()\n",
        "    file2.close()\n",
        "\n",
        "\n",
        "if __name__ == \"__main__\":\n",
        "    file1 = open(\"data.txt\", 'w')\n",
        "    file2 = open(\"output.txt\", 'w')\n",
        "    file1.close()\n",
        "    file2.close()\n",
        "    func1(\"12 13 24 53 123 666 254 165 323 78\")\n",
        "    func2(\"data.txt\", \"output.txt\")"
      ],
      "execution_count": 0,
      "outputs": []
    },
    {
      "cell_type": "markdown",
      "metadata": {
        "id": "MkuHmX9Rer5O",
        "colab_type": "text"
      },
      "source": [
        "2: Use tuple to design a student list which at least has the structure of student id and student name, write a function to write all the students in to a txt file and one line for one student You should store at least 10 students.The student id and name can be set by yourself. Then write another function to read the txt file and can get the student (with id and name) randomly. It looks like random roll call in a class."
      ]
    },
    {
      "cell_type": "code",
      "metadata": {
        "id": "hwyRfGlZhzzm",
        "colab_type": "code",
        "colab": {
          "base_uri": "https://localhost:8080/",
          "height": 425
        },
        "outputId": "a101fb38-0efc-4cdb-da01-77ab9d1f21e1"
      },
      "source": [
        "import random\n",
        "\n",
        "def func1(data):\n",
        "    with open('info.txt', 'w') as file1:\n",
        "        for student in data:\n",
        "            file1.write(str(student) + \"\\n\")\n",
        "\n",
        "def func2(filename):\n",
        "    with open(filename, 'r') as file1:\n",
        "        all_students = file1.readlines()\n",
        "        rng = random.Random()\n",
        "        number = list(range(12))\n",
        "        rng.shuffle(number)\n",
        "        for i in range(12):\n",
        "            print(all_students[number[i]])\n",
        "\n",
        "\n",
        "\n",
        "if __name__ == \"__main__\":\n",
        "    file1 = open(\"info.txt\", 'w')\n",
        "    file1.close()\n",
        "    data = [(1, 'Bob'), (2, 'Robin'), (3, 'Zack'),(4,'Ryan'),(5,'Lexa'),(6,'Ivan'),(7,'Kyle'),(8,'Rita'),(9,'Jack'),(10,'Rusty'),(11,'Drik'),(12,'Austin')]\n",
        "    func1(data)\n",
        "    func2(\"info.txt\")"
      ],
      "execution_count": 4,
      "outputs": [
        {
          "output_type": "stream",
          "text": [
            "(12, 'Austin')\n",
            "\n",
            "(10, 'Rusty')\n",
            "\n",
            "(6, 'Ivan')\n",
            "\n",
            "(7, 'Kyle')\n",
            "\n",
            "(5, 'Lexa')\n",
            "\n",
            "(9, 'Jack')\n",
            "\n",
            "(2, 'Robin')\n",
            "\n",
            "(8, 'Rita')\n",
            "\n",
            "(4, 'Ryan')\n",
            "\n",
            "(11, 'Drik')\n",
            "\n",
            "(1, 'Bob')\n",
            "\n",
            "(3, 'Zack')\n",
            "\n"
          ],
          "name": "stdout"
        }
      ]
    }
  ]
}