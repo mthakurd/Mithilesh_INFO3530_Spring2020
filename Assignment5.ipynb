{
  "nbformat": 4,
  "nbformat_minor": 0,
  "metadata": {
    "colab": {
      "name": "Untitled4.ipynb",
      "provenance": [],
      "authorship_tag": "ABX9TyP+W+UobZddDq6OJ7TZAAXe",
      "include_colab_link": true
    },
    "kernelspec": {
      "name": "python3",
      "display_name": "Python 3"
    }
  },
  "cells": [
    {
      "cell_type": "markdown",
      "metadata": {
        "id": "view-in-github",
        "colab_type": "text"
      },
      "source": [
        "<a href=\"https://colab.research.google.com/github/mthakurd/Mithilesh_INFO3530_Spring2020/blob/master/Assignment5.ipynb\" target=\"_parent\"><img src=\"https://colab.research.google.com/assets/colab-badge.svg\" alt=\"Open In Colab\"/></a>"
      ]
    },
    {
      "cell_type": "markdown",
      "metadata": {
        "id": "R8_bLK3iMBO2",
        "colab_type": "text"
      },
      "source": [
        "1.Use tuple to create a student data structure which could store every student’s studentid,studentname,and their courses they selected.There should be at least two courses. Write a function which could return the courses by the specific student’s name.\n"
      ]
    },
    {
      "cell_type": "code",
      "metadata": {
        "id": "o91oY_CQKnz8",
        "colab_type": "code",
        "colab": {
          "base_uri": "https://localhost:8080/",
          "height": 119
        },
        "outputId": "fc7b6fde-605f-46d7-f6f4-f4fe5337b3a9"
      },
      "source": [
        "def find_courses(name):\n",
        "    s=[(1,\"Bob\",\"INFO3010\",\"INFO3020\",\"LTEC3000\",\"LTEC3100\"),(2,\"Robin\",\"INFO3010\",\"INFO3020\",\"LTEC3220\",\"LTEC4560\"), (3,\"Zack\",\"INFO3000\",\"INFO3100\",\"LTEC3260\") ]\n",
        "    for arr in s:\n",
        "        if arr[1] == name:\n",
        "            return arr[2:]\n",
        "    return ()\n",
        "\n",
        "\n",
        "\n",
        "\n",
        "\n",
        "if __name__ == \"__main__\":\n",
        "    name=input(\"please choose the name from the list: Bob,Robin,Zack \\n\")\n",
        "    courses= find_courses(name)\n",
        "    if courses != ():\n",
        "        for items in courses:\n",
        "            print(items)\n",
        "    else:\n",
        "        print(\" No student founnd.\")"
      ],
      "execution_count": 1,
      "outputs": [
        {
          "output_type": "stream",
          "text": [
            "please choose the name from the list: Bob,Robin,Zack \n",
            "Bob\n",
            "INFO3010\n",
            "INFO3020\n",
            "LTEC3000\n",
            "LTEC3100\n"
          ],
          "name": "stdout"
        }
      ]
    },
    {
      "cell_type": "markdown",
      "metadata": {
        "id": "R-ZivlSlMdF3",
        "colab_type": "text"
      },
      "source": [
        "1:write a function which could create a matrix which has n row and m columns.\n",
        "2:fill the matrix with any data you want\n",
        "3:write another function which could return the index of any specific data\n",
        "4:if the specific data is not in the matrix,it return-1,\n",
        " or return the row and column where the data is in."
      ]
    },
    {
      "cell_type": "code",
      "metadata": {
        "id": "-In_VPbmNQ9Q",
        "colab_type": "code",
        "colab": {
          "base_uri": "https://localhost:8080/",
          "height": 493
        },
        "outputId": "fe420ab4-26db-453b-8d1f-afad6d43659b"
      },
      "source": [
        "def create_matrix(m, n, data):\n",
        "    mat = []\n",
        "    for i in range(m):\n",
        "        row = []\n",
        "        for j in range(n):\n",
        "            row.append(data[m * i + j])\n",
        "        mat.append(row)\n",
        "\n",
        "    return mat\n",
        "\n",
        "def find_element(m, n, mat, ele):\n",
        "    for i in range(m):\n",
        "        row = mat[i]\n",
        "        for j in range(n):\n",
        "            if row[j] == ele:\n",
        "                return (i,j)\n",
        "    return -1\n",
        "\n",
        "if __name__ == \"__main__\":\n",
        "    m = int(input(\"Number of rows.\\n\"))\n",
        "    n = int(input(\"Number of columns\\n\"))\n",
        "    data = []\n",
        "    for _ in range(m*n):\n",
        "        data.append(int(input(\"Enter data\\n\")))\n",
        "    print(\"Done entering data.\\n\")\n",
        "    mat = create_matrix(m,n,data)\n",
        "    print(mat)\n",
        "    e = int(input(\"Enter data value.\\n\"))\n",
        "    location = find_element(m,n,mat,e)\n",
        "    print(location)"
      ],
      "execution_count": 3,
      "outputs": [
        {
          "output_type": "stream",
          "text": [
            "Number of rows.\n",
            "3\n",
            "Number of columns\n",
            "3\n",
            "Enter data\n",
            "1\n",
            "Enter data\n",
            "2\n",
            "Enter data\n",
            "3\n",
            "Enter data\n",
            "4\n",
            "Enter data\n",
            "5\n",
            "Enter data\n",
            "6\n",
            "Enter data\n",
            "1\n",
            "Enter data\n",
            "2\n",
            "Enter data\n",
            "3\n",
            "Done entering data.\n",
            "\n",
            "[[1, 2, 3], [4, 5, 6], [1, 2, 3]]\n",
            "Enter data value.\n",
            "3\n",
            "(0, 2)\n"
          ],
          "name": "stdout"
        }
      ]
    },
    {
      "cell_type": "markdown",
      "metadata": {
        "id": "y87GZh2rPtVC",
        "colab_type": "text"
      },
      "source": [
        "Write a function which could return the frequency of occurrence of every word in one specific string or passage. The result should be stored as dictionary.\n",
        "Write another function which could list the content of dictionary.\n",
        "The style of output should be as follows"
      ]
    },
    {
      "cell_type": "code",
      "metadata": {
        "id": "0flt0g2DTN4h",
        "colab_type": "code",
        "colab": {
          "base_uri": "https://localhost:8080/",
          "height": 751
        },
        "outputId": "f206db75-98be-4c08-c8c5-64710fd97099"
      },
      "source": [
        "import re\n",
        "import warnings\n",
        "warnings.filterwarnings('ignore')\n",
        "\n",
        "def freqency(data):\n",
        "    data = data.split()\n",
        "    new_data = []\n",
        "    for item in data:\n",
        "        item = \"\".join(re.split(\"[^a-zA-Z0-9]*\", item))\n",
        "        new_data.append(item)\n",
        "    words = {}\n",
        "\n",
        "    for word in new_data:\n",
        "        if word not in words:\n",
        "            words[word] = 1\n",
        "        else:\n",
        "            words[word] += 1\n",
        "\n",
        "    return words\n",
        "\n",
        "\n",
        "if __name__ == \"__main__\":\n",
        "    paragraph = input(\"Enter content.\\n\")\n",
        "    words = freqency(paragraph)\n",
        "    print(\"%-15s  %-15s\" %(\"Word\", \"Count\"))\n",
        "    print(\"============================\\n\")\n",
        "    for items in words:\n",
        "        print(\"%-20s  %-20s\" %(str(items), str(words[items])))"
      ],
      "execution_count": 11,
      "outputs": [
        {
          "output_type": "stream",
          "text": [
            "Enter content.\n",
            "Python is a general-purpose, versatile and popular programming language. It’s great as a first language because it is concise and easy to read, and it is also a good language to have in any programmer’s stack as it can be used for everything from web development to software development and scientific applications.\n",
            "Word             Count          \n",
            "============================\n",
            "\n",
            "Python                1                   \n",
            "is                    3                   \n",
            "a                     3                   \n",
            "generalpurpose        1                   \n",
            "versatile             1                   \n",
            "and                   4                   \n",
            "popular               1                   \n",
            "programming           1                   \n",
            "language              3                   \n",
            "Its                   1                   \n",
            "great                 1                   \n",
            "as                    2                   \n",
            "first                 1                   \n",
            "because               1                   \n",
            "it                    3                   \n",
            "concise               1                   \n",
            "easy                  1                   \n",
            "to                    3                   \n",
            "read                  1                   \n",
            "also                  1                   \n",
            "good                  1                   \n",
            "have                  1                   \n",
            "in                    1                   \n",
            "any                   1                   \n",
            "programmers           1                   \n",
            "stack                 1                   \n",
            "can                   1                   \n",
            "be                    1                   \n",
            "used                  1                   \n",
            "for                   1                   \n",
            "everything            1                   \n",
            "from                  1                   \n",
            "web                   1                   \n",
            "development           2                   \n",
            "software              1                   \n",
            "scientific            1                   \n",
            "applications          1                   \n"
          ],
          "name": "stdout"
        }
      ]
    }
  ]
}