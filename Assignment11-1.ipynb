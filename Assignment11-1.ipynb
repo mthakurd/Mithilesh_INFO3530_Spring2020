{
  "nbformat": 4,
  "nbformat_minor": 0,
  "metadata": {
    "colab": {
      "name": "Untitled8.ipynb",
      "provenance": [],
      "authorship_tag": "ABX9TyN4XPFPfouHJJ6BLdAy9pe9",
      "include_colab_link": true
    },
    "kernelspec": {
      "name": "python3",
      "display_name": "Python 3"
    }
  },
  "cells": [
    {
      "cell_type": "markdown",
      "metadata": {
        "id": "view-in-github",
        "colab_type": "text"
      },
      "source": [
        "<a href=\"https://colab.research.google.com/github/mthakurd/Mithilesh_INFO3530_Spring2020/blob/master/Assignment11-1.ipynb\" target=\"_parent\"><img src=\"https://colab.research.google.com/assets/colab-badge.svg\" alt=\"Open In Colab\"/></a>"
      ]
    },
    {
      "cell_type": "markdown",
      "metadata": {
        "id": "_qur3JZB1lHb",
        "colab_type": "text"
      },
      "source": [
        "1. There is an csv file named “ch02-data.csv”. It stores a date and a numbers. Write a series of functions that can sum the numbers by date and output the results into a excel. The requirements are follows. 1.1 create a table in MySQL database which has the same structure with csv file. 1.2 read the csv file and import the data into MySQL table 1.3 using sql to sum the numbers by date 1.4 output the sum results into an excel file"
      ]
    },
    {
      "cell_type": "code",
      "metadata": {
        "id": "Z-S53uaS1i_Q",
        "colab_type": "code",
        "colab": {}
      },
      "source": [
        "import csv\n",
        "import pymysql\n",
        "import pandas as pd\n",
        "import openpyxl\n",
        "\n",
        "def read_csv(filename):\n",
        "    with open(filename, 'r') as f:\n",
        "        data = csv.reader(f)\n",
        "        data_arr = []\n",
        "        for row in data:\n",
        "            data_arr.append(row)\n",
        "        return data_arr\n",
        "\n",
        "\n",
        "def insertData(csv_data):\n",
        "    db = pymysql.connect(\"localhost\",\"root\",\"Alfa2020\",\"asign11\")\n",
        "    dbcursor = db.cursor()\n",
        "\n",
        "    csv_data = csv_data[1:]\n",
        "    for row in csv_data:\n",
        "        sql = \"insert into prob_1(dates, numbers) values(%s,%s)\"\n",
        "        values = (row[0], row[1])\n",
        "\n",
        "        dbcursor.execute(sql, values)\n",
        "        db.commit()\n",
        "\n",
        "    dbcursor.close()\n",
        "    db.close()\n",
        "\n",
        "\n",
        "def find_sum():\n",
        "    db = pymysql.connect(\"localhost\",\"root\",\"Alfa2020\",\"asign11\")\n",
        "    dbcursor = db.cursor()\n",
        "\n",
        "    sql = \"select dates, sum(numbers) as sum from prob_1 group by dates\"\n",
        "    dbcursor.execute(sql)\n",
        "    results = dbcursor.fetchall()\n",
        "    dates = []\n",
        "    sum_num = []\n",
        "    for row in results:\n",
        "        date = row[0].strftime(\"%d/%m/%Y\")\n",
        "        dates.append(date)\n",
        "        sum_num.append(row[1])\n",
        "    return dates, sum_num\n",
        "\n",
        "\n",
        "def write_to_excel(dates, sum_num):\n",
        "    d = {'dates': dates, 'sum': sum_num}\n",
        "    filepath = './output.xlsx'\n",
        "    writer = pd.ExcelWriter(filepath)\n",
        "\n",
        "    df = pd.DataFrame(d)\n",
        "    df.to_excel(writer, columns=['dates', 'sum'], index=False, encoding='utf-8', sheet_name='Results')\n",
        "    writer.save()\n",
        "\n",
        "\n",
        "csv_data = read_csv('./assign11-1-ch02-data.csv')\n",
        "insertData(csv_data)\n",
        "dates, sum_num = find_sum()\n",
        "write_to_excel(dates, sum_num)"
      ],
      "execution_count": 0,
      "outputs": []
    },
    {
      "cell_type": "markdown",
      "metadata": {
        "id": "6GA_8M-E1u9P",
        "colab_type": "text"
      },
      "source": [
        "2. There is an excel file named “catering_sale_all.xls”. It stores the sale situation of several kinds of food on one day. Write a function that can get the best selling food(foodname and sales) by the specific day. Use any method which you may think is easy."
      ]
    },
    {
      "cell_type": "markdown",
      "metadata": {
        "id": "FkWIOanEezYi",
        "colab_type": "text"
      },
      "source": [
        "solution 1"
      ]
    },
    {
      "cell_type": "code",
      "metadata": {
        "id": "RXSb2PgO13_Q",
        "colab_type": "code",
        "colab": {}
      },
      "source": [
        "import pandas as pd\n",
        "df = pd.read_excel(\"./assign11-1-catering_sale_all.xls\")\n",
        "result = []\n",
        "food = {1: 'chicken feet', 2: 'steamed dumplings', 3: 'ribs', 4: 'full chicken', 5: 'stuffed bun', 6: 'flowering cabbage', 7: 'doufu', 8: 'chive dumplings', 9: 'pudding', 10: 'original cabbage'}\n",
        "print(len(df.index))\n",
        "for i in range(len(df.index)):\n",
        "    max = 0\n",
        "    result1 = []\n",
        "    for j in range(10):\n",
        "        if df.loc[i, food[j+1]] >= max:\n",
        "            max = df.loc[i, food[j+1]]\n",
        "            food_item = food[j+1]\n",
        "    date = df.index.values[i]\n",
        "    result1.append(date)\n",
        "    result1.append(food_item)\n",
        "    result1.append(max)\n",
        "    result.append(result1)\n",
        "print(result)"
      ],
      "execution_count": 0,
      "outputs": []
    },
    {
      "cell_type": "markdown",
      "metadata": {
        "id": "crA1R61y173A",
        "colab_type": "text"
      },
      "source": [
        "solution 2"
      ]
    },
    {
      "cell_type": "code",
      "metadata": {
        "id": "rfV4ZYJhe422",
        "colab_type": "code",
        "colab": {}
      },
      "source": [
        "import pymysql\n",
        "import pandas as pd\n",
        "import xlrd\n",
        "import datetime\n",
        "\n",
        "file=\"./assign11-1-catering_sale_all.xls\"\n",
        "\n",
        "def read_excel(filepath):\n",
        "\n",
        "    wb=xlrd.open_workbook(filename=file)\n",
        "    ws=wb.sheet_by_name(\"Sheet1\")\n",
        "\n",
        "    dataset=[]\n",
        "\n",
        "    for r in range(ws.nrows):\n",
        "        col=[]\n",
        "        workbook_datemode = wb.datemode\n",
        "        for c in range(ws.ncols):\n",
        "            if r != 0 and c == 0:\n",
        "                y, m, d, h, m, s = xlrd.xldate_as_tuple(ws.cell(r,c).value, workbook_datemode)\n",
        "                date = datetime.datetime(y, 1, d)\n",
        "                date = date.strftime(\"%Y/%m/%d\")\n",
        "                col.append(date)\n",
        "            elif r != 0 and c != 0:\n",
        "                val = ws.cell(r,c).value\n",
        "                val = int(val)\n",
        "                col.append(val)\n",
        "            else:\n",
        "                col.append(ws.cell(r, c).value)\n",
        "        dataset.append(col)\n",
        "    return dataset[1:]\n",
        "\n",
        "\n",
        "def insertData(excel_data):\n",
        "    db = pymysql.connect(\"localhost\",\"root\",\"Alfa2020\",\"asign11\")\n",
        "    dbcursor = db.cursor()\n",
        "\n",
        "    for row in excel_data:\n",
        "        sql = \"insert into prob_2(sale_date, chicken_feet, steamed_dumplings, ribs, full_chicken, stuffed_bun, flowering_cabbage, doufu, chive_dumplings, pudding, original_cabbage) values(%s, %s, %s, %s, %s, %s, %s, %s, %s, %s, %s)\"\n",
        "        values = (row[0], row[1], row[2], row[3], row[4], row[5], row[6], row[7], row[8], row[9], row[10])\n",
        "\n",
        "        dbcursor.execute(sql, values)\n",
        "        db.commit()\n",
        "\n",
        "    dbcursor.close()\n",
        "    db.close()\n",
        "\n",
        "\n",
        "def best_selling_food():\n",
        "    db = pymysql.connect(\"localhost\",\"root\",\"Alfa2020\",\"asign11\")\n",
        "    dbcursor = db.cursor()\n",
        "\n",
        "    sql = \"select sale_date, sum(numbers) as sum from prob_2 group by dates\"\n",
        "    dbcursor.execute(sql)\n",
        "    results = dbcursor.fetchall()\n",
        "    dates = []\n",
        "    sum_num = []\n",
        "    for row in results:\n",
        "        date = row[0].strftime(\"%d/%m/%Y\")\n",
        "        dates.append(date)\n",
        "        sum_num.append(row[1])\n",
        "    return dates, sum_num\n",
        "\n",
        "excel_data = read_excel(file)\n",
        "insertData(excel_data)"
      ],
      "execution_count": 0,
      "outputs": []
    }
  ]
}