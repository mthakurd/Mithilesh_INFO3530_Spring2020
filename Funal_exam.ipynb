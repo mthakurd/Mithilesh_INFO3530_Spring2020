{
  "nbformat": 4,
  "nbformat_minor": 0,
  "metadata": {
    "colab": {
      "name": "Untitled10.ipynb",
      "provenance": [],
      "authorship_tag": "ABX9TyN0g1a9g+4kAKTZopwr6iPd",
      "include_colab_link": true
    },
    "kernelspec": {
      "name": "python3",
      "display_name": "Python 3"
    }
  },
  "cells": [
    {
      "cell_type": "markdown",
      "metadata": {
        "id": "view-in-github",
        "colab_type": "text"
      },
      "source": [
        "<a href=\"https://colab.research.google.com/github/mthakurd/Mithilesh_INFO3530_Spring2020/blob/master/Funal_exam.ipynb\" target=\"_parent\"><img src=\"https://colab.research.google.com/assets/colab-badge.svg\" alt=\"Open In Colab\"/></a>"
      ]
    },
    {
      "cell_type": "markdown",
      "metadata": {
        "id": "Xofg1UFttSQ-",
        "colab_type": "text"
      },
      "source": [
        "1: write a function which could print a string content. The requirements are as follows (20’) (1) the function accepts one argument which is printed as the string content (10’) (2) the value of the argument should be provided in command line (10’) Its running effect is as follows."
      ]
    },
    {
      "cell_type": "code",
      "metadata": {
        "id": "GwDQCIDBtN_j",
        "colab_type": "code",
        "colab": {
          "base_uri": "https://localhost:8080/",
          "height": 51
        },
        "outputId": "27e834a3-8a88-4cee-9d5f-11f56cfad9b8"
      },
      "source": [
        "def print_string(s):\n",
        "    print(s)\n",
        "\n",
        "if __name__ == \"__main__\":\n",
        "    s = input(\"please input a string: \")\n",
        "    print_string(s)"
      ],
      "execution_count": 1,
      "outputs": [
        {
          "output_type": "stream",
          "text": [
            "please input a string: hello world!\n",
            "hello world!\n"
          ],
          "name": "stdout"
        }
      ]
    },
    {
      "cell_type": "markdown",
      "metadata": {
        "id": "APS-DGfdtoQN",
        "colab_type": "text"
      },
      "source": [
        "2: Write a program that could sum all the even digit in the scope of 1-1000. The requirements are as follows. (20’) (1) use the function of range to express the scope of 1-1000 (10’) (2) use for loop to deal with the scope (10’) The result should be “250500”."
      ]
    },
    {
      "cell_type": "code",
      "metadata": {
        "id": "vNreMZ5rtogl",
        "colab_type": "code",
        "colab": {
          "base_uri": "https://localhost:8080/",
          "height": 34
        },
        "outputId": "468c09f2-853b-4013-c0d8-d78cd2ac3aaa"
      },
      "source": [
        "def sumofevendigit():\n",
        "\n",
        "    sum = 0\n",
        "    for i in range(1,1001):\n",
        "        if i % 2 == 0:\n",
        "            sum = sum + i\n",
        "\n",
        "\n",
        "    print(sum)\n",
        "\n",
        "if __name__ == \"__main__\":\n",
        "    sumofevendigit()"
      ],
      "execution_count": 2,
      "outputs": [
        {
          "output_type": "stream",
          "text": [
            "250500\n"
          ],
          "name": "stdout"
        }
      ]
    },
    {
      "cell_type": "markdown",
      "metadata": {
        "id": "l-Abi9OQt46V",
        "colab_type": "text"
      },
      "source": [
        "3: Given a number list which is numbers=[12,10,3,2,[6,[7,8,9],19,21],21]. Write a function that can get the product of all the numbers in the list. The requirements are as follows. (20’) (1) write the function by recursion (10’) (2) the “numbers” should be an argument of the function (5’) (3) the function returns a number (5’) The result should be “18243429120”."
      ]
    },
    {
      "cell_type": "code",
      "metadata": {
        "id": "T67V2MhJt6Da",
        "colab_type": "code",
        "colab": {
          "base_uri": "https://localhost:8080/",
          "height": 34
        },
        "outputId": "4f47b6cb-e392-4c18-cdd9-90206fffcfc4"
      },
      "source": [
        "mul = 1\n",
        "\n",
        "def multiply(lst, depth):\n",
        "    global mul\n",
        "    for item in lst:\n",
        "        if isinstance(item, int):\n",
        "            mul *= item\n",
        "        elif isinstance(item, list):\n",
        "            multiply(item, depth-1)\n",
        "    return mul\n",
        "\n",
        "\n",
        "\n",
        "if __name__ == \"__main__\":\n",
        "    lst = [12,10,3,2,[6,[7,8,9],19,21],21]\n",
        "    result = multiply(lst, 3)\n",
        "    print(result)"
      ],
      "execution_count": 3,
      "outputs": [
        {
          "output_type": "stream",
          "text": [
            "18243429120\n"
          ],
          "name": "stdout"
        }
      ]
    },
    {
      "cell_type": "markdown",
      "metadata": {
        "id": "yAF1D-wlt-Fw",
        "colab_type": "text"
      },
      "source": [
        "4: Given a matrix which is matrix=[[23,43,12],[32,12,52],[15,35,52],[19,28,56]]. Write a function to complete the following task. (30’) (1) turn the matrix (List) into an array (5’) (2) use mask to set all the value above 20 to 0 (15’) (3) output the result into a txt file (10’) Its running effect is as follows."
      ]
    },
    {
      "cell_type": "code",
      "metadata": {
        "id": "0QpJ6bnguC6w",
        "colab_type": "code",
        "colab": {}
      },
      "source": [
        "import numpy as np\n",
        "\n",
        "def print_matrix(my_matrix):\n",
        "    my_array = np.asarray(my_matrix)\n",
        "    for item in my_array:\n",
        "        for j in range(len(item)):\n",
        "            if item[j] > 20:\n",
        "                item[j] = 0\n",
        "    with open('result.txt', 'w') as f:\n",
        "        f.write(str(my_array))\n",
        "\n",
        "if __name__ == \"__main__\":\n",
        "    my_matrix = [[23,43,12],[32,12,52],[15,35,52],[19,28,56]]\n",
        "    print_matrix(my_matrix)"
      ],
      "execution_count": 0,
      "outputs": []
    },
    {
      "cell_type": "markdown",
      "metadata": {
        "id": "7FgA5cbgwxxf",
        "colab_type": "text"
      },
      "source": [
        "![alt text](https://drive.google.com/uc?id=12yk4VkvUyqq72_JHYbf8JzdTUM44Xa87)\n"
      ]
    },
    {
      "cell_type": "markdown",
      "metadata": {
        "id": "2DS3hqYquKHK",
        "colab_type": "text"
      },
      "source": [
        "5: Given a number list which is numbers=[1,3,2,4,2,3,2,2,3,2,2,4,2,32,3,2,4,2,3,5,3,2,4,2,2,4,2,2,4,2,2,3,1,3,2,3]. Write a function to complete  the following task. (30’) (1) count the frequency of each different number in numbers list (10’) (2) store the result into dictionary (10’) (3) print it out (10’)"
      ]
    },
    {
      "cell_type": "code",
      "metadata": {
        "id": "AiQzxeRduPFP",
        "colab_type": "code",
        "colab": {
          "base_uri": "https://localhost:8080/",
          "height": 119
        },
        "outputId": "13224613-f346-422b-a0ea-a43a20ab87f6"
      },
      "source": [
        "def count_freq(num_list):\n",
        "    new_list = []\n",
        "    result = {}\n",
        "    for num in num_list:\n",
        "        if num not in new_list:\n",
        "            new_list.append(num)\n",
        "    for number in num_list:\n",
        "        if number not in result:\n",
        "            result[number] = 1\n",
        "        else:\n",
        "            result[number] += 1\n",
        "    for item in result:\n",
        "        print(item, result[item])\n",
        "\n",
        "\n",
        "if __name__ == \"__main__\":\n",
        "    numbers = [1,3,2,4,2,3,2,2,3,2,2,4,2,32,3,2,4,2,3,5,3,2,4,2,2,4,2,2,4,2,2,3,1,3,2,3]\n",
        "    count_freq(numbers)"
      ],
      "execution_count": 5,
      "outputs": [
        {
          "output_type": "stream",
          "text": [
            "1 2\n",
            "3 9\n",
            "2 17\n",
            "4 6\n",
            "32 1\n",
            "5 1\n"
          ],
          "name": "stdout"
        }
      ]
    },
    {
      "cell_type": "markdown",
      "metadata": {
        "id": "xSTUWmejuYVl",
        "colab_type": "text"
      },
      "source": [
        "6: Create a class Point which represent a point in two dimensions. It has two properties x and y. The detail requirements are as follows. (1) When creating an object of Point, we can assign the value to x and y. If we don’t provide the value, they will be 0. (10’) (2) If we print the object of Point directly, it will output the value of x and y. Its running effect is as follows. (10’)(3) if we create two different objects of Point which are p1 and p2, (p1+p2) will get a new Point whose x is (p1.x+p2.x) and y is (p1.y+p2.y). Suppose p1(1,3) and p2(3.,4), then the result of print(p1+p2) is shown as follows. (10’)"
      ]
    },
    {
      "cell_type": "code",
      "metadata": {
        "id": "Y1XSa_lxuY-g",
        "colab_type": "code",
        "colab": {
          "base_uri": "https://localhost:8080/",
          "height": 34
        },
        "outputId": "2bd1f4fb-350a-402a-9c44-900c675e9be3"
      },
      "source": [
        "import math\n",
        "\n",
        "class Point:\n",
        "  def __init__(self,x=0,y=0):\n",
        "    self.x = x\n",
        "    self.y = y\n",
        "\n",
        "  def __str__(self):\n",
        "    return \"The point is ({0},{1})\".format(self.x,self.y)\n",
        "\n",
        "  def __add__(self, other):\n",
        "    p3_x = self.x + other.x\n",
        "    p3_y = self.y + other.y\n",
        "    p3 = Point(p3_x, p3_y)\n",
        "    return p3\n",
        "\n",
        "\n",
        "\n",
        "if __name__ == \"__main__\":\n",
        "\n",
        "\n",
        "    p1 = Point(1,3)\n",
        "    p2 = Point(3,4)\n",
        "    print(p1 + p2)\n",
        "\n",
        "\n",
        "\n",
        "\n",
        "    #solution 2\n",
        "\n",
        "# import math\n",
        "#\n",
        "#\n",
        "# class Point:\n",
        "#     def __init__(self, x=0, y=0):\n",
        "#         self.x = x\n",
        "#         self.y = y\n",
        "#\n",
        "#     def __str__(self):\n",
        "#         return \"The point is ({0},{1})\".format(self.x, self.y)\n",
        "#\n",
        "#     def distance(A, B):\n",
        "#         p3_x = A.x + B.x\n",
        "#         p3_y = A.y + B.y\n",
        "#         p3 = Point(p3_x, p3_y)\n",
        "#         return p3\n",
        "#\n",
        "# if __name__ == \"__main__\":\n",
        "#     p1 = Point(1,3)\n",
        "#     p2 = Point(3,4)\n",
        "#     print(distance(p1, p2))"
      ],
      "execution_count": 6,
      "outputs": [
        {
          "output_type": "stream",
          "text": [
            "The point is (4,7)\n"
          ],
          "name": "stdout"
        }
      ]
    },
    {
      "cell_type": "markdown",
      "metadata": {
        "id": "ggfIPf6MusSJ",
        "colab_type": "text"
      },
      "source": [
        "7: Given an excel file named “catering_sale_all.xls”. It stores the sale situation of several kinds of food on one month. Write a program that could print the total sales volume of the month by a specific food. The detail requirements are follows.(50’) (1) when running the program, it will list all the food with a fixed number in the excel (10’) (2) it notify a user to specific one number (10’) (3) it print the specific food’s total sales volume of one month (10’) (4) after print the result, a user could switch to print another food’s sales volume (10’) (5) when the user select exit, the program exits (10’) Its running effects are as follows."
      ]
    },
    {
      "cell_type": "code",
      "metadata": {
        "id": "E4UgTibSuvXW",
        "colab_type": "code",
        "colab": {}
      },
      "source": [
        "import pandas as pd\n",
        "\n",
        "df = pd.read_excel ('catering_sale_all.xls')\n",
        "data = pd.DataFrame(df)\n",
        "\n",
        "data_dict = {0: 'exit', 1: 'chicken feet', 2: 'steamed dumplings', 3: 'ribs', 4: 'full chicken', 5: 'stuffed bun', 6: 'flowering cabbage',\n",
        "             7: 'doufu', 8: 'chive dumplings', 9: 'pudding', 10: 'original cabbage'}\n",
        "\n",
        "while True:\n",
        "    for item in data_dict:\n",
        "        print(item, data_dict[item])\n",
        "    choice = int(input('please input number in the list:'))\n",
        "    if choice == 0:\n",
        "        break\n",
        "    else:\n",
        "        food = data_dict[choice]\n",
        "        print('total sale of ' + food + ' is ' + str(data[food].sum()))"
      ],
      "execution_count": 0,
      "outputs": []
    },
    {
      "cell_type": "markdown",
      "metadata": {
        "id": "bFccRKg9xC28",
        "colab_type": "text"
      },
      "source": [
        "![alt text](https://drive.google.com/uc?id=1qc8FxhHe_Xqdrffq2KJvHz7VHXJjWXY9)\n"
      ]
    },
    {
      "cell_type": "markdown",
      "metadata": {
        "id": "T3azN7ovu35W",
        "colab_type": "text"
      },
      "source": [
        "¬8. Given a sql file named “world.sql” which are exported from MySQL by MySQL GUI Tools (For Mac: MySQL Workbench, For Windows: MySQL Administrator).Write a series of functions to complete the following tasks. (50’) (1) import the data into MySQL — this is an operation not program (10’)\n",
        "(2) write a function to connect to the ”world” schema by using of “pymysql” module (10’) (3) For the “country” table, write a function to retrieve the average life expectancy of every continent (20’) (4) print the result (10’) The final result is as follows."
      ]
    },
    {
      "cell_type": "code",
      "metadata": {
        "id": "rLMGv7JqvCr7",
        "colab_type": "code",
        "colab": {}
      },
      "source": [
        "import pymysql\n",
        "\n",
        "def avgLifeExpectancy():\n",
        "    db = pymysql.connect(\"localhost\",\"root\",\"Alfa2020\",\"world\")\n",
        "    dbcursor = db.cursor()\n",
        "\n",
        "    sql = \"SELECT AVG(LifeExpectancy), continent FROM world.country group by Continent\"\n",
        "\n",
        "    dbcursor.execute(sql)\n",
        "    results = dbcursor.fetchall()\n",
        "\n",
        "    print(\"avglife  |  continent\")\n",
        "    for item in results:\n",
        "        print(str(item[0]) + '  |  ' + item[1])\n",
        "\n",
        "    dbcursor.close()\n",
        "    db.close()\n",
        "\n",
        "if __name__ == \"__main__\":\n",
        "    avgLifeExpectancy()"
      ],
      "execution_count": 0,
      "outputs": []
    },
    {
      "cell_type": "markdown",
      "metadata": {
        "id": "97OJx3DpxLXq",
        "colab_type": "text"
      },
      "source": [
        "![alt text](https://drive.google.com/uc?id=14fmXlwtU5nrG3JrgaBagC9Zg3tOJBjaG)\n"
      ]
    },
    {
      "cell_type": "markdown",
      "metadata": {
        "id": "pyMoJtycvJMi",
        "colab_type": "text"
      },
      "source": [
        "9. Using the “world” schema imported in Question 8. For the “country” table, write a series of functions to complete the following tasks. (50’) (1) write a function to connect to the ”world” schema by using of “pymysql” module (10’) (2) write a function to calculate the total population by every continent (20’) (3) use pie plot to display the result. (20’) The final result is as follows."
      ]
    },
    {
      "cell_type": "code",
      "metadata": {
        "id": "QXv1XLzPvMde",
        "colab_type": "code",
        "colab": {}
      },
      "source": [
        "import pymysql\n",
        "from pylab import *\n",
        "\n",
        "def populationPercentage():\n",
        "    db = pymysql.connect(\"localhost\",\"root\",\"Alfa2020\",\"world\")\n",
        "    dbcursor = db.cursor()\n",
        "\n",
        "    sql = \"SELECT continent, sum(Population), continent FROM world.country group by Continent\"\n",
        "\n",
        "    dbcursor.execute(sql)\n",
        "    results = dbcursor.fetchall()\n",
        "    x_labels = []\n",
        "    y_values = []\n",
        "    for item in results:\n",
        "        x_labels.append(item[0])\n",
        "        y_values.append(item[1])\n",
        "    dbcursor.close()\n",
        "    db.close()\n",
        "    return x_labels, y_values\n",
        "\n",
        "def plot_result(x_labels, y_values):\n",
        "    figure(1, figsize=(6, 6))\n",
        "    explode = (0.1, 0.1, 0.1, 0.1, 0.1, 0.1, 0.1)\n",
        "    pie(y_values,explode=explode,labels=x_labels,autopct='%1.1f%%',startangle=100)\n",
        "\n",
        "    title('population by continent')\n",
        "    show()\n",
        "\n",
        "if __name__ == \"__main__\":\n",
        "    x_labels, y_values = populationPercentage()\n",
        "    plot_result(x_labels, y_values)"
      ],
      "execution_count": 0,
      "outputs": []
    },
    {
      "cell_type": "markdown",
      "metadata": {
        "id": "xnEvlnzjxbAU",
        "colab_type": "text"
      },
      "source": [
        "![alt text](https://drive.google.com/uc?id=1bksUDBngKrAVXmGuP9uyCrvPTbQUVgjQ)\n"
      ]
    },
    {
      "cell_type": "markdown",
      "metadata": {
        "id": "HukX19pCvQ6C",
        "colab_type": "text"
      },
      "source": [
        "10. Given a csv file named “energy-production.csv”. It stores energy production of one area between 1973 and 2014. Write a series of functions to complete the following tasks. (50’) (1) use “panda” to load the “energy-production.csv” file (10’) (2) Write a function which accept year (1973-2014) as argument to retrieve the specific year’s energy production in detail. (20’) (3) use bar plot to display the retrieved result. (20’) The final result is as follows."
      ]
    },
    {
      "cell_type": "code",
      "metadata": {
        "id": "aa561aZAvRpk",
        "colab_type": "code",
        "colab": {}
      },
      "source": [
        "import pandas as pd\n",
        "import matplotlib.pyplot as plt\n",
        "\n",
        "def saveData(input_csv):\n",
        "    df = pd.read_csv(input_csv)\n",
        "    data = pd.DataFrame(df)\n",
        "    column_names = []\n",
        "    for i in range(len(data.columns)):\n",
        "        column_names.append(data.columns[i])\n",
        "    return data, column_names[2:]\n",
        "\n",
        "def retrieveInfo(info, year):\n",
        "    for item in info.iterrows():\n",
        "        if int(item[1][1]) == year:\n",
        "            return item[1]\n",
        "\n",
        "def displayResult(energy_info, column_names):\n",
        "    energy_values = []\n",
        "    for item in energy_info:\n",
        "        energy_values.append(item)\n",
        "    energy_values = energy_values[2:]\n",
        "\n",
        "    plt.ylim(0, 40)\n",
        "    plt.bar(column_names, energy_values)\n",
        "    plt.xticks(rotation=-25, fontsize='x-small')\n",
        "    plt.subplots_adjust(bottom=0.15)\n",
        "    plt.show()\n",
        "\n",
        "\n",
        "if __name__ == \"__main__\":\n",
        "    info, column_names = saveData('energy-production.csv')\n",
        "    year = int(input('Please input a year between 1973 and 2014:'))\n",
        "    energy_info = retrieveInfo(info, year)\n",
        "    displayResult(energy_info, column_names)"
      ],
      "execution_count": 0,
      "outputs": []
    },
    {
      "cell_type": "markdown",
      "metadata": {
        "id": "IOP9hFSvyAkh",
        "colab_type": "text"
      },
      "source": [
        "![alt text](https://drive.google.com/uc?id=1tPXl3ZxaEwUGM-hFkGDQPvDTg0gMnX2y)"
      ]
    },
    {
      "cell_type": "markdown",
      "metadata": {
        "id": "eqoT3Uxqxnbd",
        "colab_type": "text"
      },
      "source": [
        "![alt text](https://drive.google.com/uc?id=1q7Ss-bKKdrJklXMslNCFobu17L34gjGu)"
      ]
    }
  ]
}