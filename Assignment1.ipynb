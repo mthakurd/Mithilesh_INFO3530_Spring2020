{
  "nbformat": 4,
  "nbformat_minor": 0,
  "metadata": {
    "colab": {
      "name": "Untitled0.ipynb",
      "provenance": [],
      "authorship_tag": "ABX9TyPXrnMfanORrF2lV2Zq+ysi",
      "include_colab_link": true
    },
    "kernelspec": {
      "name": "python3",
      "display_name": "Python 3"
    }
  },
  "cells": [
    {
      "cell_type": "markdown",
      "metadata": {
        "id": "view-in-github",
        "colab_type": "text"
      },
      "source": [
        "<a href=\"https://colab.research.google.com/github/mthakurd/Mithilesh_INFO3530_Spring2020/blob/master/Assignment1.ipynb\" target=\"_parent\"><img src=\"https://colab.research.google.com/assets/colab-badge.svg\" alt=\"Open In Colab\"/></a>"
      ]
    },
    {
      "cell_type": "code",
      "metadata": {
        "id": "t9-TPQF4mQPz",
        "colab_type": "code",
        "colab": {
          "base_uri": "https://localhost:8080/",
          "height": 34
        },
        "outputId": "803306e1-26d4-48b3-efbb-6550d29045f8"
      },
      "source": [
        "a=\"All \"\n",
        "b=\"work \"\n",
        "c=\"and \"\n",
        "d=\"no \"\n",
        "e=\"play \"\n",
        "f=\"makes \"\n",
        "g=\"Jack \"\n",
        "h=\"a \"\n",
        "i=\"dull \"\n",
        "j=\"boy\"\n",
        "\n",
        "\n",
        "a+b+c+d+e+f+g+h+i+j"
      ],
      "execution_count": 2,
      "outputs": [
        {
          "output_type": "execute_result",
          "data": {
            "text/plain": [
              "'All work and no play makes Jack a dull boy'"
            ]
          },
          "metadata": {
            "tags": []
          },
          "execution_count": 2
        }
      ]
    },
    {
      "cell_type": "code",
      "metadata": {
        "id": "az7UvilLuz7H",
        "colab_type": "code",
        "colab": {
          "base_uri": "https://localhost:8080/",
          "height": 68
        },
        "outputId": "52fb769d-0ca5-419f-cdcf-314f0ae854f2"
      },
      "source": [
        " a=input(\"enter first number \")\n",
        "a=int(a)\n",
        " b=input(\"enter second number \")\n",
        "b=int(b)\n",
        "c=(1+(a/b))**3\n",
        "\n",
        "s=3.14*c\n",
        "s"
      ],
      "execution_count": 11,
      "outputs": [
        {
          "output_type": "stream",
          "text": [
            "enter first number 1\n",
            "enter second number 1\n"
          ],
          "name": "stdout"
        },
        {
          "output_type": "execute_result",
          "data": {
            "text/plain": [
              "25.12"
            ]
          },
          "metadata": {
            "tags": []
          },
          "execution_count": 11
        }
      ]
    }
  ]
}