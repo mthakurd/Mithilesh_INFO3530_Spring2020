{
  "nbformat": 4,
  "nbformat_minor": 0,
  "metadata": {
    "colab": {
      "name": "Untitled2.ipynb",
      "provenance": [],
      "authorship_tag": "ABX9TyNkpM8OeJ4YEocQPisLLuFj",
      "include_colab_link": true
    },
    "kernelspec": {
      "name": "python3",
      "display_name": "Python 3"
    }
  },
  "cells": [
    {
      "cell_type": "markdown",
      "metadata": {
        "id": "view-in-github",
        "colab_type": "text"
      },
      "source": [
        "<a href=\"https://colab.research.google.com/github/mthakurd/Mithilesh_INFO3530_Spring2020/blob/master/Assignment4.ipynb\" target=\"_parent\"><img src=\"https://colab.research.google.com/assets/colab-badge.svg\" alt=\"Open In Colab\"/></a>"
      ]
    },
    {
      "cell_type": "code",
      "metadata": {
        "id": "Hk2kG3eNiFz4",
        "colab_type": "code",
        "colab": {
          "base_uri": "https://localhost:8080/",
          "height": 85
        },
        "outputId": "4468e834-de31-43b0-d655-638a3e304679"
      },
      "source": [
        "def replace(s,old,new):\n",
        "  index = s.find(old)\n",
        "  if index == -1:\n",
        "    return \"invalid Entry\"\n",
        "  else:\n",
        "    while index !=-1:\n",
        "      s = s[:index] + new + s[(index + len(old)):]\n",
        "      index = s.find(old)\n",
        "    return s\n",
        "\n",
        "\n",
        "if __name__== \"__main__\":\n",
        "  s = input(\"Enter the string: \")\n",
        "  old=input(\"Enter the character you wish to change: \")\n",
        "  new=input(\"Enter the new character: \")\n",
        "  print(replace(s,old,new))\n",
        " "
      ],
      "execution_count": 32,
      "outputs": [
        {
          "output_type": "stream",
          "text": [
            "Enter the string: i love java.java rocks\n",
            "Enter the character you wish to change: java\n",
            "Enter the new character: python\n",
            "i love python.python rocks\n"
          ],
          "name": "stdout"
        }
      ]
    },
    {
      "cell_type": "code",
      "metadata": {
        "id": "5acG7CLSXrYF",
        "colab_type": "code",
        "colab": {
          "base_uri": "https://localhost:8080/",
          "height": 51
        },
        "outputId": "bda5f1eb-8b7e-4a02-9802-60b93df18db4"
      },
      "source": [
        "def filename_extention(filename):\n",
        "    index = filename.rfind('.')\n",
        "    if index == -1 or index ==(len(filename)-1):\n",
        "        return \"invalid filename\"\n",
        "    else:\n",
        "        extention=filename[index:]\n",
        "        return extention\n",
        "\n",
        "if __name__== \"__main__\":\n",
        "  a =filename_extention(input(\"Enter file name: \"))\n",
        "  print (a)\n"
      ],
      "execution_count": 33,
      "outputs": [
        {
          "output_type": "stream",
          "text": [
            "Enter file name: test.java\n",
            ".java\n"
          ],
          "name": "stdout"
        }
      ]
    }
  ]
}