{
  "nbformat": 4,
  "nbformat_minor": 0,
  "metadata": {
    "colab": {
      "name": "Untitled2.ipynb",
      "provenance": [],
      "mount_file_id": "1mgghQF9h43Ne6dWu3FKD0QKBT1ViLxLD",
      "authorship_tag": "ABX9TyNoQ0Tg3c9KxGmg5G7B+tYy",
      "include_colab_link": true
    },
    "kernelspec": {
      "name": "python3",
      "display_name": "Python 3"
    }
  },
  "cells": [
    {
      "cell_type": "markdown",
      "metadata": {
        "id": "view-in-github",
        "colab_type": "text"
      },
      "source": [
        "<a href=\"https://colab.research.google.com/github/mthakurd/Mithilesh_INFO3530_Spring2020/blob/master/Assignment4.ipynb\" target=\"_parent\"><img src=\"https://colab.research.google.com/assets/colab-badge.svg\" alt=\"Open In Colab\"/></a>"
      ]
    },
    {
      "cell_type": "markdown",
      "metadata": {
        "id": "dxVQYN1AoDY4",
        "colab_type": "text"
      },
      "source": [
        "**Question no.1**"
      ]
    },
    {
      "cell_type": "code",
      "metadata": {
        "id": "TMU038XWjCbE",
        "colab_type": "code",
        "colab": {}
      },
      "source": [
        "import turtle\n",
        "\n",
        "\n",
        "def draw_rec():\n",
        "    t = turtle.Turtle()\n",
        "    t.pencolor('pink')\n",
        "\n",
        "    for i in range(5):\n",
        "        t.forward(100 + i*40)\n",
        "        t.left(90)\n",
        "        t.forward(100 + i*40)\n",
        "        t.left(90)\n",
        "        t.forward(100 + i*40)\n",
        "        t.left(90)\n",
        "        t.forward(100 + i*40)\n",
        "\n",
        "        t.color('white')\n",
        "        t.forward(20)\n",
        "        t.right(90)\n",
        "        t.forward(20)\n",
        "        t.color('pink')\n",
        "        t.right(180)\n",
        "\n",
        "if __name__ == \"__main__\":\n",
        "    draw_rec()\n"
      ],
      "execution_count": 0,
      "outputs": []
    },
    {
      "cell_type": "markdown",
      "metadata": {
        "id": "4eG_HKSonyZu",
        "colab_type": "text"
      },
      "source": [
        "![alt text](https://drive.google.com/uc?id=1Y0o2NRos1C2ZkgIw1akm_aKTadwHyyxE)"
      ]
    },
    {
      "cell_type": "markdown",
      "metadata": {
        "id": "82mn213NlK6w",
        "colab_type": "text"
      },
      "source": [
        "**Question no.2**"
      ]
    },
    {
      "cell_type": "code",
      "metadata": {
        "id": "vb5pw3k9oYR-",
        "colab_type": "code",
        "colab": {}
      },
      "source": [
        "import turtle\n",
        "\n",
        "def draw_maze():\n",
        "    t = turtle.Turtle()\n",
        "    t.pencolor('blue')\n",
        "\n",
        "\n",
        "    t.speed(10)\n",
        "    for i in range(100):\n",
        "        t.forward(i)\n",
        "        t.right(90)\n",
        "\n",
        "\n",
        "if __name__ == \"__main__\":\n",
        "    draw_maze()\n"
      ],
      "execution_count": 0,
      "outputs": []
    },
    {
      "cell_type": "markdown",
      "metadata": {
        "id": "vtVAzKxjofJf",
        "colab_type": "text"
      },
      "source": [
        "![alt text](https://drive.google.com/uc?id=133IBHki2AVP38BcKg9zFuEKzwdB0_X3I)"
      ]
    },
    {
      "cell_type": "markdown",
      "metadata": {
        "id": "tlHF5m3tpQFy",
        "colab_type": "text"
      },
      "source": [
        "Write a function replace(s,old,new)that replaces all occurrences of the old character with a new character in a string"
      ]
    },
    {
      "cell_type": "code",
      "metadata": {
        "id": "Hk2kG3eNiFz4",
        "colab_type": "code",
        "outputId": "4468e834-de31-43b0-d655-638a3e304679",
        "colab": {
          "base_uri": "https://localhost:8080/",
          "height": 85
        }
      },
      "source": [
        "def replace(s,old,new):\n",
        "  index = s.find(old)\n",
        "  if index == -1:\n",
        "    return \"invalid Entry\"\n",
        "  else:\n",
        "    while index !=-1:\n",
        "      s = s[:index] + new + s[(index + len(old)):]\n",
        "      index = s.find(old)\n",
        "    return s\n",
        "\n",
        "\n",
        "if __name__== \"__main__\":\n",
        "  s = input(\"Enter the string: \")\n",
        "  old=input(\"Enter the character you wish to change: \")\n",
        "  new=input(\"Enter the new character: \")\n",
        "  print(replace(s,old,new))\n",
        " "
      ],
      "execution_count": 0,
      "outputs": [
        {
          "output_type": "stream",
          "text": [
            "Enter the string: i love java.java rocks\n",
            "Enter the character you wish to change: java\n",
            "Enter the new character: python\n",
            "i love python.python rocks\n"
          ],
          "name": "stdout"
        }
      ]
    },
    {
      "cell_type": "markdown",
      "metadata": {
        "id": "asLZMxxbov2Q",
        "colab_type": "text"
      },
      "source": [
        "Write a function which could return the file name’s extend name.It accepts one argument.If the argument is not a valid filename,it should return it is a invalid filename"
      ]
    },
    {
      "cell_type": "code",
      "metadata": {
        "id": "5acG7CLSXrYF",
        "colab_type": "code",
        "outputId": "bda5f1eb-8b7e-4a02-9802-60b93df18db4",
        "colab": {
          "base_uri": "https://localhost:8080/",
          "height": 51
        }
      },
      "source": [
        "def filename_extention(filename):\n",
        "    index = filename.rfind('.')\n",
        "    if index == -1 or index ==(len(filename)-1):\n",
        "        return \"invalid filename\"\n",
        "    else:\n",
        "        extention=filename[index:]\n",
        "        return extention\n",
        "\n",
        "if __name__== \"__main__\":\n",
        "  a =filename_extention(input(\"Enter file name: \"))\n",
        "  print (a)\n"
      ],
      "execution_count": 0,
      "outputs": [
        {
          "output_type": "stream",
          "text": [
            "Enter file name: test.java\n",
            ".java\n"
          ],
          "name": "stdout"
        }
      ]
    }
  ]
}