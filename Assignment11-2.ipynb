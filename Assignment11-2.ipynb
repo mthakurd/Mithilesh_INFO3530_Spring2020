{
  "nbformat": 4,
  "nbformat_minor": 0,
  "metadata": {
    "colab": {
      "name": "Untitled9.ipynb",
      "provenance": [],
      "toc_visible": true,
      "mount_file_id": "19vfa4A3HeOWgx4brkF5KZirG59mnbdSq",
      "authorship_tag": "ABX9TyMuEOfHyWHuVeqnJxhrpnSE",
      "include_colab_link": true
    },
    "kernelspec": {
      "name": "python3",
      "display_name": "Python 3"
    }
  },
  "cells": [
    {
      "cell_type": "markdown",
      "metadata": {
        "id": "view-in-github",
        "colab_type": "text"
      },
      "source": [
        "<a href=\"https://colab.research.google.com/github/mthakurd/Mithilesh_INFO3530_Spring2020/blob/master/Assignment11-2.ipynb\" target=\"_parent\"><img src=\"https://colab.research.google.com/assets/colab-badge.svg\" alt=\"Open In Colab\"/></a>"
      ]
    },
    {
      "cell_type": "markdown",
      "metadata": {
        "id": "nMkmYNE3MehO",
        "colab_type": "text"
      },
      "source": [
        "3.In database “world”, there is table which stores life expectancy of most countries. Using bar plots to display  the life expenctancy by countries in one specific continent."
      ]
    },
    {
      "cell_type": "code",
      "metadata": {
        "id": "IYLRtoIJMdM3",
        "colab_type": "code",
        "colab": {}
      },
      "source": [
        "import pymysql\n",
        "import matplotlib.pyplot as plt\n",
        "\n",
        "\n",
        "\n",
        "\n",
        "def plotLifeExpectancy(continent):\n",
        "    db = pymysql.connect(\"localhost\",\"root\",\"Alfa2020\",\"world\")\n",
        "    dbcursor = db.cursor()\n",
        "\n",
        "    sql = \"SELECT Name, LifeExpectancy FROM world.country where Continent=%s\"\n",
        "    value = continent\n",
        "\n",
        "    dbcursor.execute(sql, value)\n",
        "    results = dbcursor.fetchall()\n",
        "    country = []\n",
        "    LifeExpectancy = []\n",
        "    for row in results:\n",
        "        country.append(row[0])\n",
        "        LifeExpectancy.append(row[1])\n",
        "\n",
        "    plt.ylim(0, 100)\n",
        "    plt.bar(country, LifeExpectancy)\n",
        "    plt.xticks(rotation = 90)\n",
        "    plt.show()\n",
        "\n",
        "    dbcursor.close()\n",
        "    db.close()\n",
        "\n",
        "continent = input(\"Enter the continent name. \\n\")\n",
        "plotLifeExpectancy(continent)"
      ],
      "execution_count": 0,
      "outputs": []
    },
    {
      "cell_type": "markdown",
      "metadata": {
        "id": "aT8VxHOoMvCc",
        "colab_type": "text"
      },
      "source": [
        "![alt text](https://drive.google.com/uc?id=1jml-Nr5TO90ushZ505YAOZKFoMSoHiMt)"
      ]
    },
    {
      "cell_type": "markdown",
      "metadata": {
        "id": "kKwkt2oyOFz6",
        "colab_type": "text"
      },
      "source": [
        "4. There is an excel file named “catering_sale_all.xls”. It stores the sale situation of several kinds of food on one day. Using line chart to display the selling situation on every day by a specific food name."
      ]
    },
    {
      "cell_type": "code",
      "metadata": {
        "id": "qVgULS78MeJs",
        "colab_type": "code",
        "colab": {}
      },
      "source": [
        "import pandas as pd\n",
        "\n",
        "import matplotlib.pyplot as plt\n",
        "\n",
        "def plotSoldItems(food):\n",
        "    df = pd.read_excel ('assign11-1-catering_sale_all.xls')\n",
        "\n",
        "\n",
        "    data = pd.DataFrame(df, columns= ['sale date', food])\n",
        "    data.plot(x='sale date', y=food, kind='line')\n",
        "\n",
        "    plt.show()\n",
        "\n",
        "food = input('Enter food item to be plotted:\\n')\n",
        "plotSoldItems(food)"
      ],
      "execution_count": 0,
      "outputs": []
    },
    {
      "cell_type": "markdown",
      "metadata": {
        "id": "AwJb5HOcOXch",
        "colab_type": "text"
      },
      "source": [
        "![alt text](https://drive.google.com/uc?id=16cI51mhIvzNRgvhfFhq1tY5mQXmus0um)"
      ]
    }
  ]
}