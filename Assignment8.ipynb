{
  "nbformat": 4,
  "nbformat_minor": 0,
  "metadata": {
    "colab": {
      "name": "Untitled6.ipynb",
      "provenance": [],
      "authorship_tag": "ABX9TyO2MaI5TImywpwuJsxZEzME",
      "include_colab_link": true
    },
    "kernelspec": {
      "name": "python3",
      "display_name": "Python 3"
    }
  },
  "cells": [
    {
      "cell_type": "markdown",
      "metadata": {
        "id": "view-in-github",
        "colab_type": "text"
      },
      "source": [
        "<a href=\"https://colab.research.google.com/github/mthakurd/Mithilesh_INFO3530_Spring2020/blob/master/Assignment8.ipynb\" target=\"_parent\"><img src=\"https://colab.research.google.com/assets/colab-badge.svg\" alt=\"Open In Colab\"/></a>"
      ]
    },
    {
      "cell_type": "markdown",
      "metadata": {
        "id": "5TjMg7RBpPg6",
        "colab_type": "text"
      },
      "source": [
        "1.Rewrite the distance function from the chapter 4 titled Fruitful functions so that it takes two Points as parameters instead of four numbers."
      ]
    },
    {
      "cell_type": "code",
      "metadata": {
        "id": "8mN_V_Q-nD6o",
        "colab_type": "code",
        "colab": {
          "base_uri": "https://localhost:8080/",
          "height": 34
        },
        "outputId": "2707e4cf-8797-4acb-b317-f3f22ef99706"
      },
      "source": [
        "import copy\n",
        "import math\n",
        "\n",
        "class Point:\n",
        "  def __init__(self,x=0,y=0):\n",
        "    self.x=x\n",
        "    self.y=y\n",
        "\n",
        "  def distance_from_origin(self):\n",
        "    return (self.x**2+self.y**2)**0.5\n",
        "\n",
        "  def __str__(self):\n",
        "    #return \"You can't print me!\"\n",
        "    return \"({0},{1})\".format(self.x,self.y)\n",
        "\n",
        "  def halfway(self,target):\n",
        "    mx=(self.x+target.x)/2\n",
        "    my=(self.y+target.y)/2\n",
        "    return Point(mx,my)\n",
        "\n",
        "\n",
        "def distance(A, B):\n",
        "    deltaX=A.x - B.x\n",
        "    deltaY=A.y - B.y\n",
        "    return math.sqrt(deltaX**2+deltaY**2)\n",
        "\n",
        "if __name__ == \"__main__\":\n",
        "    A = Point(1,0)\n",
        "    B = Point(2,0)\n",
        "    print(distance(A,B))"
      ],
      "execution_count": 5,
      "outputs": [
        {
          "output_type": "stream",
          "text": [
            "1.0\n"
          ],
          "name": "stdout"
        }
      ]
    },
    {
      "cell_type": "markdown",
      "metadata": {
        "id": "cINQ_7y-pdQs",
        "colab_type": "text"
      },
      "source": [
        "\n",
        "\n",
        "2.Add a method reflect_x to Point which returns a new Point, one which is the reflection of the point about the x-axis.\n"
      ]
    },
    {
      "cell_type": "code",
      "metadata": {
        "id": "P2kdOoslpqcy",
        "colab_type": "code",
        "colab": {
          "base_uri": "https://localhost:8080/",
          "height": 34
        },
        "outputId": "31b7e96c-1713-43be-831c-c5e5d86b8838"
      },
      "source": [
        "import copy\n",
        "import math\n",
        "\n",
        "class Point:\n",
        "  def __init__(self,x=0,y=0):\n",
        "    self.x=x\n",
        "    self.y=y\n",
        "\n",
        "  def distance_from_origin(self):\n",
        "    return (self.x**2+self.y**2)**0.5\n",
        "\n",
        "  def __str__(self):\n",
        "    #return \"You can't print me!\"\n",
        "    return \"({0},{1})\".format(self.x,self.y)\n",
        "\n",
        "  def halfway(self,target):\n",
        "    mx=(self.x+target.x)/2\n",
        "    my=(self.y+target.y)/2\n",
        "    return Point(mx,my)\n",
        "\n",
        "  def reflect_x(self):\n",
        "      new_x = self.x\n",
        "      new_y = self.y*(-1)\n",
        "      return Point(new_x, new_y)\n",
        "\n",
        "if __name__ == \"__main__\":\n",
        "    A = Point(1,-9)\n",
        "    print(A.reflect_x())\n",
        "\n",
        "\n",
        "\n",
        "\n"
      ],
      "execution_count": 6,
      "outputs": [
        {
          "output_type": "stream",
          "text": [
            "(1,9)\n"
          ],
          "name": "stdout"
        }
      ]
    },
    {
      "cell_type": "markdown",
      "metadata": {
        "id": "bRT2p_68qz89",
        "colab_type": "text"
      },
      "source": [
        "3.Add a method area to the Rectangle class that returns the area of any instance."
      ]
    },
    {
      "cell_type": "code",
      "metadata": {
        "id": "zd3C1zvZqyTj",
        "colab_type": "code",
        "colab": {
          "base_uri": "https://localhost:8080/",
          "height": 34
        },
        "outputId": "86a5a7d1-da7d-4357-cb9b-0600bd8adef5"
      },
      "source": [
        "\n",
        "import copy\n",
        "import math\n",
        "\n",
        "class Point:\n",
        "  def __init__(self,x=0,y=0):\n",
        "    self.x=x\n",
        "    self.y=y\n",
        "\n",
        "  def distance_from_origin(self):\n",
        "    return (self.x**2+self.y**2)**0.5\n",
        "\n",
        "  def __str__(self):\n",
        "    #return \"You can't print me!\"\n",
        "    return \"({0},{1})\".format(self.x,self.y)\n",
        "\n",
        "  def halfway(self,target):\n",
        "    mx=(self.x+target.x)/2\n",
        "    my=(self.y+target.y)/2\n",
        "    return Point(mx,my)\n",
        "\n",
        "  def reflect_x(self):\n",
        "      new_x = self.x\n",
        "      new_y = self.y*(-1)\n",
        "      return Point(new_x, new_y)\n",
        "\n",
        "class Rectangle:\n",
        "    def __init__(self, posn, w, h):\n",
        "        self.corner = posn\n",
        "        self.width = w\n",
        "        self.height = h\n",
        "\n",
        "    def __str__(self):\n",
        "        return \"({0},{1},{2})\".format(self.corner, self.width, self.height)\n",
        "\n",
        "    def grow(self,delta_width,delta_heigh):\n",
        "        self.width+=delta_width\n",
        "        self.height+=delta_heigh\n",
        "\n",
        "    def move(self,dx,dy):\n",
        "        self.corner.x+=dx\n",
        "        self.corner.y+=dy\n",
        "\n",
        "    def rect_area(self):\n",
        "      return self.width*self.height\n",
        "\n",
        "if __name__ == \"__main__\":\n",
        "  box = Rectangle(Point(0,0),10,20)\n",
        "  print(box.rect_area())\n",
        "\n",
        "\n",
        "\n"
      ],
      "execution_count": 12,
      "outputs": [
        {
          "output_type": "stream",
          "text": [
            "200\n"
          ],
          "name": "stdout"
        }
      ]
    },
    {
      "cell_type": "markdown",
      "metadata": {
        "id": "5Z8ydamOwOkQ",
        "colab_type": "text"
      },
      "source": [
        "4.Write a flip method in the Rectangle class that swaps the width and height of any rectangle instance."
      ]
    },
    {
      "cell_type": "code",
      "metadata": {
        "id": "A0z3Ew3iuX7u",
        "colab_type": "code",
        "colab": {
          "base_uri": "https://localhost:8080/",
          "height": 34
        },
        "outputId": "5ad58573-75be-4b11-ed43-0457c1af7afe"
      },
      "source": [
        "import copy\n",
        "import math\n",
        "\n",
        "class Point:\n",
        "  def __init__(self,x=0,y=0):\n",
        "    self.x=x\n",
        "    self.y=y\n",
        "\n",
        "  def distance_from_origin(self):\n",
        "    return (self.x**2+self.y**2)**0.5\n",
        "\n",
        "  def __str__(self):\n",
        "    #return \"You can't print me!\"\n",
        "    return \"({0},{1})\".format(self.x,self.y)\n",
        "\n",
        "  def halfway(self,target):\n",
        "    mx=(self.x+target.x)/2\n",
        "    my=(self.y+target.y)/2\n",
        "    return Point(mx,my)\n",
        "\n",
        "  def reflect_x(self):\n",
        "      new_x = self.x\n",
        "      new_y = self.y*(-1)\n",
        "      return Point(new_x, new_y)\n",
        "\n",
        "class Rectangle:\n",
        "    def __init__(self, posn, w, h):\n",
        "        self.corner = posn\n",
        "        self.width = w\n",
        "        self.height = h\n",
        "\n",
        "    def __str__(self):\n",
        "        return \"({0},{1},{2})\".format(self.corner, self.width, self.height)\n",
        "\n",
        "    def grow(self,delta_width,delta_heigh):\n",
        "        self.width+=delta_width\n",
        "        self.height+=delta_heigh\n",
        "\n",
        "    def move(self,dx,dy):\n",
        "        self.corner.x+=dx\n",
        "        self.corner.y+=dy\n",
        "\n",
        "    def rect_area(self):\n",
        "      return self.width*self.height\n",
        "\n",
        "    def flip_w_h(self):\n",
        "      new_width= self.height\n",
        "      new_height=self.width\n",
        "      return Rectangle(self.corner, new_width, new_height)\n",
        "\n",
        "if __name__ == \"__main__\":\n",
        "  box = Rectangle(Point(0,0),10,20)\n",
        "  print(box.flip_w_h())"
      ],
      "execution_count": 14,
      "outputs": [
        {
          "output_type": "stream",
          "text": [
            "((0,0),20,10)\n"
          ],
          "name": "stdout"
        }
      ]
    },
    {
      "cell_type": "markdown",
      "metadata": {
        "id": "WQ7Fac7hwWRO",
        "colab_type": "text"
      },
      "source": [
        "\n",
        "5.Write a new method in the Rectangle class to test if a Point falls within the rectangle. For this exercise, assume that a rectangle at (0,0) with width 10 and height 5 has open upper bounds on the width and height, i.e. it stretches in the x direction from [0 to 10), where 0 is included but 10 is excluded, and from [0 to 5) in the y direction. So it does not contain the point (10, 2).\n"
      ]
    },
    {
      "cell_type": "code",
      "metadata": {
        "id": "TgvT2UjjwGpV",
        "colab_type": "code",
        "colab": {
          "base_uri": "https://localhost:8080/",
          "height": 34
        },
        "outputId": "e5dfaeb5-4381-4370-9bcf-5fa9dec8fda7"
      },
      "source": [
        "import copy\n",
        "import math\n",
        "\n",
        "class Point:\n",
        "  def __init__(self,x=0,y=0):\n",
        "    self.x=x\n",
        "    self.y=y\n",
        "\n",
        "  def distance_from_origin(self):\n",
        "    return (self.x**2+self.y**2)**0.5\n",
        "\n",
        "  def __str__(self):\n",
        "    #return \"You can't print me!\"\n",
        "    return \"({0},{1})\".format(self.x,self.y)\n",
        "\n",
        "  def halfway(self,target):\n",
        "    mx=(self.x+target.x)/2\n",
        "    my=(self.y+target.y)/2\n",
        "    return Point(mx,my)\n",
        "\n",
        "  def reflect_x(self):\n",
        "      new_x = self.x\n",
        "      new_y = self.y*(-1)\n",
        "      return Point(new_x, new_y)\n",
        "\n",
        "class Rectangle:\n",
        "    def __init__(self, posn, w, h):\n",
        "        self.corner = posn\n",
        "        self.width = w\n",
        "        self.height = h\n",
        "\n",
        "    def __str__(self):\n",
        "        return \"({0},{1},{2})\".format(self.corner, self.width, self.height)\n",
        "\n",
        "    def grow(self,delta_width,delta_heigh):\n",
        "        self.width+=delta_width\n",
        "        self.height+=delta_heigh\n",
        "\n",
        "    def move(self,dx,dy):\n",
        "        self.corner.x+=dx\n",
        "        self.corner.y+=dy\n",
        "\n",
        "    def rect_area(self):\n",
        "      return self.width*self.height\n",
        "\n",
        "    def flip_w_h(self):\n",
        "      new_width= self.height\n",
        "      new_height=self.width\n",
        "      return Rectangle(self.corner, new_width, new_height)\n",
        "\n",
        "\n",
        "    def check_location(self,point):\n",
        "      check_x=point.x\n",
        "      check_y=point.y\n",
        "\n",
        "      if 0 <= check_x < 10 and 0 <= check_y < 5:\n",
        "        return \"Yes, this point falls within Rectangle\"\n",
        "\n",
        "      else:\n",
        "        return \"No, this point does not falls within the rectangle.\"\n",
        "\n",
        "if __name__ == \"__main__\":\n",
        "  box = Rectangle(Point(0,0),10,20)\n",
        "  print(box.check_location(Point(10,2)))"
      ],
      "execution_count": 20,
      "outputs": [
        {
          "output_type": "stream",
          "text": [
            "No, this point does not falls within the rectangle.\n"
          ],
          "name": "stdout"
        }
      ]
    }
  ]
}